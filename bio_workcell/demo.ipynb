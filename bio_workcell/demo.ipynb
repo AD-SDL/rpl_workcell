{
 "cells": [
  {
   "cell_type": "code",
   "execution_count": 2,
   "metadata": {},
   "outputs": [
    {
     "name": "stdout",
     "output_type": "stream",
     "text": [
      "Started RCLPY\n",
      "0\n",
      "Stack transfer successfully completed\n",
      "(0, 'Stack transfer successfully completed')\n",
      "killing node\n",
      "Started RCLPY\n",
      "0\n",
      "Stack transfer successfully completed\n",
      "(0, 'Stack transfer successfully completed')\n",
      "killing node\n",
      "Started RCLPY\n",
      "0\n",
      "Stack transfer successfully completed\n",
      "(0, 'Stack transfer successfully completed')\n",
      "killing node\n",
      "Started RCLPY\n",
      "0\n",
      "SealerNode Seal plate successfully completed\n",
      "(0, 'SealerNode Seal plate successfully completed')\n",
      "killing node\n",
      "Started RCLPY\n",
      "0\n",
      "Stack transfer successfully completed\n",
      "(0, 'Stack transfer successfully completed')\n",
      "killing node\n",
      "Started RCLPY\n"
     ]
    },
    {
     "name": "stderr",
     "output_type": "stream",
     "text": [
      "[INFO] [1680727772.793882415] [weiExecNode]: /std_ns/liconicNode service not available, waiting again...\n",
      "[INFO] [1680727773.796261579] [weiExecNode]: /std_ns/liconicNode service not available, waiting again...\n"
     ]
    },
    {
     "name": "stdout",
     "output_type": "stream",
     "text": [
      "0\n",
      "Plate loaded into liconic stack 1, slot 1\n",
      "(0, 'Plate loaded into liconic stack 1, slot 1')\n",
      "killing node\n",
      "Started RCLPY\n",
      "0\n",
      "Liconic shaker activated, shaker speed: 30\n",
      "(0, 'Liconic shaker activated, shaker speed: 30')\n",
      "killing node\n",
      "Started RCLPY\n",
      "0\n",
      "Plate unloaded from liconic stack 1, slot 1\n",
      "(0, 'Plate unloaded from liconic stack 1, slot 1')\n",
      "killing node\n",
      "Started RCLPY\n",
      "0\n",
      "Stack transfer successfully completed\n",
      "(0, 'Stack transfer successfully completed')\n",
      "killing node\n",
      "Started RCLPY\n",
      "0\n",
      "PeelerNode Peel plate successfully completed\n",
      "(0, 'PeelerNode Peel plate successfully completed')\n",
      "killing node\n",
      "Started RCLPY\n",
      "0\n",
      "Stack transfer successfully completed\n",
      "(0, 'Stack transfer successfully completed')\n",
      "killing node\n",
      "Started RCLPY\n",
      "0\n",
      "Stack transfer successfully completed\n",
      "(0, 'Stack transfer successfully completed')\n",
      "killing node\n",
      "{'run_dir': PosixPath('/home/rpl/.wei/demo/run-20230405_154442'), 'run_id': '20230405_154442', 'payload': {'temp': 37.0, 'humidity': 95.0, 'shaker_speed': 30, 'stacker': 1, 'slot': 1}}\n"
     ]
    }
   ],
   "source": [
    "import logging\n",
    "from pathlib import Path\n",
    "from argparse import ArgumentParser\n",
    "from rpl_wei.wei_workcell_base import WEI\n",
    "# from .tools.publishv2 import publish_iter\n",
    "from pathlib import Path\n",
    "\n",
    "wf_path = Path('/home/rpl/workspace/rpl_workcell/bio_workcell/workflows/demo.yaml')\n",
    "\n",
    "wei_client = WEI(wf_config = wf_path.resolve(), workcell_log_level=logging.ERROR, workflow_log_level=logging.ERROR)\n",
    "\n",
    "payload={\n",
    "    'temp': 37.0, \n",
    "    'humidity': 95.0,\n",
    "    'shaker_speed': 30,\n",
    "    \"stacker\": 1, \n",
    "    \"slot\": 1,\n",
    "    }\n",
    "\n",
    "run_info = wei_client.run_workflow(payload=payload)\n",
    "print(run_info)"
   ]
  }
 ],
 "metadata": {
  "kernelspec": {
   "display_name": "Python 3",
   "language": "python",
   "name": "python3"
  },
  "language_info": {
   "codemirror_mode": {
    "name": "ipython",
    "version": 3
   },
   "file_extension": ".py",
   "mimetype": "text/x-python",
   "name": "python",
   "nbconvert_exporter": "python",
   "pygments_lexer": "ipython3",
   "version": "3.10.6"
  },
  "orig_nbformat": 4
 },
 "nbformat": 4,
 "nbformat_minor": 2
}
