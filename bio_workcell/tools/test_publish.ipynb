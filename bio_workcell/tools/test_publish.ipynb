{
 "cells": [
  {
   "cell_type": "code",
   "execution_count": 1,
   "metadata": {},
   "outputs": [
    {
     "name": "stdout",
     "output_type": "stream",
     "text": [
      "[ACTIVE]: The Flow is starting execution\n",
      "[ACTIVE]: The Flow is starting execution\n",
      "[ACTIVE]: The Flow is starting execution\n",
      "[ACTIVE]: The Flow is starting execution\n",
      "[ACTIVE]: The Flow is starting execution\n",
      "[ACTIVE]: The Flow is starting execution\n",
      "[ACTIVE]: The Flow is starting execution\n",
      "[ACTIVE]: State PublishGatherMetadata of type Action started\n",
      "[ACTIVE]: State PublishGatherMetadata of type Action started\n",
      "[ACTIVE]: State PublishGatherMetadata of type Action started\n",
      "[ACTIVE]: State PublishGatherMetadata of type Action started\n",
      "[ACTIVE]: State PublishGatherMetadata of type Action started\n",
      "[ACTIVE]: State PublishGatherMetadata of type Action started\n",
      "[ACTIVE]: State PublishGatherMetadata of type Action started\n",
      "[ACTIVE]: State PublishGatherMetadata of type Action started\n",
      "[ACTIVE]: State PublishGatherMetadata of type Action started\n"
     ]
    }
   ],
   "source": [
    "from publishv2 import publish_iter\n",
    "from pathlib import Path\n",
    "\n",
    "\n",
    "data = Path('~/workspace/rpl_workcell/bio_workcell/demo_data/1653676687-1/')\n",
    "dest = Path('test_bio_1')\n",
    "\n",
    "publish_iter(data, dest)"
   ]
  },
  {
   "cell_type": "code",
   "execution_count": 2,
   "metadata": {},
   "outputs": [
    {
     "data": {
      "text/plain": [
       "['GladierBaseTool',\n",
       " 'Publish',\n",
       " '__builtins__',\n",
       " '__cached__',\n",
       " '__doc__',\n",
       " '__file__',\n",
       " '__loader__',\n",
       " '__name__',\n",
       " '__package__',\n",
       " '__spec__',\n",
       " 'generate_flow_definition',\n",
       " 'publish_gather_metadata']"
      ]
     },
     "execution_count": 2,
     "metadata": {},
     "output_type": "execute_result"
    }
   ],
   "source": [
    "import gladier_tools\n",
    "dir(gladier_tools.publish.publish)"
   ]
  },
  {
   "cell_type": "code",
   "execution_count": null,
   "metadata": {},
   "outputs": [],
   "source": []
  },
  {
   "cell_type": "code",
   "execution_count": null,
   "metadata": {},
   "outputs": [],
   "source": []
  }
 ],
 "metadata": {
  "kernelspec": {
   "display_name": "Python 3",
   "language": "python",
   "name": "python3"
  },
  "language_info": {
   "codemirror_mode": {
    "name": "ipython",
    "version": 3
   },
   "file_extension": ".py",
   "mimetype": "text/x-python",
   "name": "python",
   "nbconvert_exporter": "python",
   "pygments_lexer": "ipython3",
   "version": "3.10.6"
  },
  "orig_nbformat": 4
 },
 "nbformat": 4,
 "nbformat_minor": 2
}
