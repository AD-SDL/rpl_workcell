{
 "cells": [
  {
   "cell_type": "code",
   "execution_count": 39,
   "metadata": {},
   "outputs": [
    {
     "name": "stdout",
     "output_type": "stream",
     "text": [
      "{1: {'A1': array([172, 177, 175]), 'A2': array([172, 177, 176]), 'A3': array([172, 177, 176]), 'A4': array([173, 178, 177]), 'A5': array([173, 178, 177]), 'A6': array([173, 179, 178]), 'A7': array([173, 179, 178]), 'A8': array([172, 177, 176]), 'A9': array([172, 177, 176]), 'A10': array([172, 177, 176]), 'A11': array([172, 177, 176]), 'A12': array([168, 175, 174]), 'B1': array([156, 157, 155]), 'B2': array([172, 177, 176]), 'B3': array([172, 177, 176]), 'B4': array([172, 177, 176]), 'B5': array([172, 177, 176]), 'B6': array([173, 178, 176]), 'B7': array([172, 177, 175]), 'B8': array([172, 177, 176]), 'B9': array([173, 178, 176]), 'B10': array([173, 178, 177]), 'B11': array([171, 177, 176]), 'B12': array([166, 174, 174]), 'C1': array([152, 153, 151]), 'C2': array([172, 177, 176]), 'C3': array([172, 177, 176]), 'C4': array([174, 177, 175]), 'C5': array([174, 177, 175]), 'C6': array([173, 177, 175]), 'C7': array([174, 177, 175]), 'C8': array([174, 177, 175]), 'C9': array([172, 177, 176]), 'C10': array([172, 177, 176]), 'C11': array([172, 177, 176]), 'C12': array([170, 175, 174]), 'D1': array([149, 151, 149]), 'D2': array([172, 177, 176]), 'D3': array([173, 176, 174]), 'D4': array([174, 176, 176]), 'D5': array([174, 176, 176]), 'D6': array([174, 176, 175]), 'D7': array([174, 176, 176]), 'D8': array([173, 176, 176]), 'D9': array([172, 177, 175]), 'D10': array([172, 177, 176]), 'D11': array([171, 176, 175]), 'D12': array([168, 173, 172]), 'E1': array([150, 151, 148]), 'E2': array([173, 176, 174]), 'E3': array([173, 176, 174]), 'E4': array([173, 175, 173]), 'E5': array([172, 175, 173]), 'E6': array([171, 175, 173]), 'E7': array([173, 176, 174]), 'E8': array([173, 174, 172]), 'E9': array([173, 176, 174]), 'E10': array([171, 176, 174]), 'E11': array([170, 172, 172]), 'E12': array([168, 170, 170]), 'F1': array([148, 149, 145]), 'F2': array([170, 174, 169]), 'F3': array([169, 173, 168]), 'F4': array([170, 174, 169]), 'F5': array([170, 174, 169]), 'F6': array([172, 173, 169]), 'F7': array([171, 174, 172]), 'F8': array([171, 172, 168]), 'F9': array([171, 174, 173]), 'F10': array([171, 174, 172]), 'F11': array([167, 172, 170]), 'F12': array([167, 170, 168]), 'G1': array([148, 150, 144]), 'G2': array([168, 171, 169]), 'G3': array([168, 172, 167]), 'G4': array([172, 173, 169]), 'G5': array([172, 173, 169]), 'G6': array([168, 172, 167]), 'G7': array([169, 173, 167]), 'G8': array([169, 173, 168]), 'G9': array([168, 173, 171]), 'G10': array([168, 172, 168]), 'G11': array([165, 171, 166]), 'G12': array([163, 166, 164]), 'H1': array([165, 169, 164]), 'H2': array([168, 171, 165]), 'H3': array([169, 170, 166]), 'H4': array([169, 170, 166]), 'H5': array([170, 171, 166]), 'H6': array([167, 172, 163]), 'H7': array([167, 170, 165]), 'H8': array([169, 173, 168]), 'H9': array([166, 170, 167]), 'H10': array([167, 171, 166]), 'H11': array([167, 171, 166]), 'H12': array([165, 169, 163])}}\n"
     ]
    }
   ],
   "source": [
    "from pathlib import Path\n",
    "\n",
    "img_path = Path(\n",
    "    \"~/experiments/cp_pop_foo_bar/run-20230223_140123/final_image.jpg\"\n",
    ")\n",
    "\n",
    "##To be transplanted\n",
    "from funcx import FuncXExecutor\n",
    "from tools.plate_color_analysis import get_colors_from_file\n",
    "\n",
    "ep = \"299edea0-db9a-4693-84ba-babfa655b1be\"  # local\n",
    "\n",
    "fx = FuncXExecutor(endpoint_id=ep)\n",
    "plate_colors_ratios = fx.submit(get_colors_from_file, img_path, endpoint_id=ep)\n",
    "print(plate_colors_ratios.result())"
   ]
  }
 ],
 "metadata": {
  "kernelspec": {
   "display_name": "Python 3",
   "language": "python",
   "name": "python3"
  },
  "language_info": {
   "codemirror_mode": {
    "name": "ipython",
    "version": 3
   },
   "file_extension": ".py",
   "mimetype": "text/x-python",
   "name": "python",
   "nbconvert_exporter": "python",
   "pygments_lexer": "ipython3",
   "version": "3.10.6"
  },
  "orig_nbformat": 4,
  "vscode": {
   "interpreter": {
    "hash": "e7370f93d1d0cde622a1f8e1c04877d8463912d04d973331ad4851f04de6915a"
   }
  }
 },
 "nbformat": 4,
 "nbformat_minor": 2
}
