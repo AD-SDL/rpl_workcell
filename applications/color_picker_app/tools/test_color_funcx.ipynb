{
 "cells": [
  {
   "cell_type": "code",
   "execution_count": null,
   "metadata": {},
   "outputs": [],
   "source": [
    "from pathlib import Path\n",
    "\n",
    "img_path = Path(\n",
    "    \"~/experiments/cp_pop_foo_bar/run-20230223_140123/final_image.jpg\"\n",
    ")\n",
    "\n",
    "##To be transplanted\n",
    "from funcx import FuncXExecutor\n",
    "from tools.plate_color_analysis import get_colors_from_file\n",
    "\n",
    "ep = \"299edea0-db9a-4693-84ba-babfa655b1be\"  # local\n",
    "\n",
    "fx = FuncXExecutor(endpoint_id=ep)\n",
    "plate_colors_ratios = fx.submit(get_colors_from_file, img_path, endpoint_id=ep)\n",
    "print(plate_colors_ratios.result())"
   ]
  }
 ],
 "metadata": {
  "kernelspec": {
   "display_name": "Python 3",
   "language": "python",
   "name": "python3"
  },
  "language_info": {
   "codemirror_mode": {
    "name": "ipython",
    "version": 3
   },
   "file_extension": ".py",
   "mimetype": "text/x-python",
   "name": "python",
   "nbconvert_exporter": "python",
   "pygments_lexer": "ipython3",
   "version": "3.10.6"
  },
  "vscode": {
   "interpreter": {
    "hash": "e7370f93d1d0cde622a1f8e1c04877d8463912d04d973331ad4851f04de6915a"
   }
  }
 },
 "nbformat": 4,
 "nbformat_minor": 2
}
